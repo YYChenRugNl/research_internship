{
  "nbformat_minor": 0, 
  "nbformat": 4, 
  "cells": [
    {
      "execution_count": null, 
      "cell_type": "code", 
      "source": [
        "%matplotlib inline"
      ], 
      "outputs": [], 
      "metadata": {
        "collapsed": false
      }
    }, 
    {
      "source": [
        "\n# Generalized Relevance Learning Vector Quantization\n\nThis example shows how GRLVQ projects and classifies.\nThe plot shows the target class of each data point\n(big circle) and which class was predicted (smaller circle). It also\nshows the prototypes (black diamond) and their labels (small point inside the diamond).\nThe projected data is shown in the right plot.\n\n\n"
      ], 
      "cell_type": "markdown", 
      "metadata": {}
    }, 
    {
      "execution_count": null, 
      "cell_type": "code", 
      "source": [
        "import numpy as np\nimport matplotlib.pyplot as plt\n\nfrom glvq import GrlvqModel,plot2d\n\nprint(__doc__)\n\n\nnb_ppc = 100\ntoy_label = np.append(np.zeros(nb_ppc), np.ones(nb_ppc), axis=0)\n\nprint('GRLVQ:')\ntoy_data = np.append(\n    np.random.multivariate_normal([0, 0], np.array([[0.3, 0], [0, 4]]),\n                                  size=nb_ppc),\n    np.random.multivariate_normal([4, 4], np.array([[0.3, 0], [0, 4]]),\n                                  size=nb_ppc), axis=0)\ngrlvq = GrlvqModel()\ngrlvq.fit(toy_data, toy_label)\nplot2d(grlvq, toy_data, toy_label, 1, 'grlvq')\n\nprint('classification accuracy:', grlvq.score(toy_data, toy_label))\nplt.show()"
      ], 
      "outputs": [], 
      "metadata": {
        "collapsed": false
      }
    }
  ], 
  "metadata": {
    "kernelspec": {
      "display_name": "Python 2", 
      "name": "python2", 
      "language": "python"
    }, 
    "language_info": {
      "mimetype": "text/x-python", 
      "nbconvert_exporter": "python", 
      "name": "python", 
      "file_extension": ".py", 
      "version": "2.7.11", 
      "pygments_lexer": "ipython2", 
      "codemirror_mode": {
        "version": 2, 
        "name": "ipython"
      }
    }
  }
}