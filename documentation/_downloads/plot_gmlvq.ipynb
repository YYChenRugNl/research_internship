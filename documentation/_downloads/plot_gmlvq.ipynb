{
  "nbformat_minor": 0, 
  "nbformat": 4, 
  "cells": [
    {
      "execution_count": null, 
      "cell_type": "code", 
      "source": [
        "%matplotlib inline"
      ], 
      "outputs": [], 
      "metadata": {
        "collapsed": false
      }
    }, 
    {
      "source": [
        "\n# Generalized Matrix Learning Vector Quantization\n\nThis example shows how GMLVQ projects and classifies.\nThe plot shows the target class of each data point\n(big circle) and which class was predicted (smaller circle). It also\nshows the prototypes (black diamond) and their labels (small point inside the diamond).\nThe projected data is shown in the right plot.\n\n\n"
      ], 
      "cell_type": "markdown", 
      "metadata": {}
    }, 
    {
      "execution_count": null, 
      "cell_type": "code", 
      "source": [
        "import matplotlib.pyplot as plt\nimport numpy as np\n\nfrom glvq import GmlvqModel, plot2d\n\nprint(__doc__)\n\nnb_ppc = 100\ntoy_label = np.append(np.zeros(nb_ppc), np.ones(nb_ppc), axis=0)\n\nprint('GMLVQ:')\ntoy_data = np.append(\n    np.random.multivariate_normal([0, 0], np.array([[5, 4], [4, 6]]),\n                                  size=nb_ppc),\n    np.random.multivariate_normal([9, 0], np.array([[5, 4], [4, 6]]),\n                                  size=nb_ppc), axis=0)\ngmlvq = GmlvqModel()\ngmlvq.fit(toy_data, toy_label)\nplot2d(gmlvq, toy_data, toy_label, 1, 'gmlvq')\n\nprint('classification accuracy:', gmlvq.score(toy_data, toy_label))\nplt.show()"
      ], 
      "outputs": [], 
      "metadata": {
        "collapsed": false
      }
    }
  ], 
  "metadata": {
    "kernelspec": {
      "display_name": "Python 2", 
      "name": "python2", 
      "language": "python"
    }, 
    "language_info": {
      "mimetype": "text/x-python", 
      "nbconvert_exporter": "python", 
      "name": "python", 
      "file_extension": ".py", 
      "version": "2.7.11", 
      "pygments_lexer": "ipython2", 
      "codemirror_mode": {
        "version": 2, 
        "name": "ipython"
      }
    }
  }
}