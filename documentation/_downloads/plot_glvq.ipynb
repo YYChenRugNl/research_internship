{
  "nbformat_minor": 0, 
  "nbformat": 4, 
  "cells": [
    {
      "execution_count": null, 
      "cell_type": "code", 
      "source": [
        "%matplotlib inline"
      ], 
      "outputs": [], 
      "metadata": {
        "collapsed": false
      }
    }, 
    {
      "source": [
        "\n# Generalized Learning Vector Quantization\n\nThis example shows how GLVQ classifies.\nThe plot shows the target class of each data point\n(big circle) and which class was predicted (smaller circle). It also\nshows the prototypes (black diamond) and their labels (small point inside the diamond).\n\n\n"
      ], 
      "cell_type": "markdown", 
      "metadata": {}
    }, 
    {
      "execution_count": null, 
      "cell_type": "code", 
      "source": [
        "import numpy as np\nimport matplotlib.pyplot as plt\n\nfrom glvq import GlvqModel\nfrom glvq.plot_2d import to_tango_colors, tango_color\n\nprint(__doc__)\n\nnb_ppc = 100\nprint('GLVQ:')\ntoy_data = np.append(\n    np.random.multivariate_normal([0, 0], np.eye(2) / 2, size=nb_ppc),\n    np.random.multivariate_normal([5, 0], np.eye(2) / 2, size=nb_ppc), axis=0)\ntoy_label = np.append(np.zeros(nb_ppc), np.ones(nb_ppc), axis=0)\n\nglvq = GlvqModel()\nglvq.fit(toy_data, toy_label)\npred = glvq.predict(toy_data)\n\nplt.scatter(toy_data[:, 0], toy_data[:, 1], c=to_tango_colors(toy_label), alpha=0.5)\nplt.scatter(toy_data[:, 0], toy_data[:, 1], c=to_tango_colors(pred), marker='.')\nplt.scatter(glvq.w_[:, 0], glvq.w_[:, 1],\n            c=tango_color('aluminium', 5), marker='D')\nplt.scatter(glvq.w_[:, 0], glvq.w_[:, 1],\n            c=to_tango_colors(glvq.c_w_, 0), marker='.')\nplt.axis('equal')\n\nprint('classification accuracy:', glvq.score(toy_data, toy_label))\nplt.show()"
      ], 
      "outputs": [], 
      "metadata": {
        "collapsed": false
      }
    }
  ], 
  "metadata": {
    "kernelspec": {
      "display_name": "Python 2", 
      "name": "python2", 
      "language": "python"
    }, 
    "language_info": {
      "mimetype": "text/x-python", 
      "nbconvert_exporter": "python", 
      "name": "python", 
      "file_extension": ".py", 
      "version": "2.7.11", 
      "pygments_lexer": "ipython2", 
      "codemirror_mode": {
        "version": 2, 
        "name": "ipython"
      }
    }
  }
}